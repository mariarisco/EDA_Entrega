{
 "cells": [
  {
   "cell_type": "code",
   "execution_count": 1,
   "metadata": {},
   "outputs": [],
   "source": [
    "import sys\n",
    "import os\n",
    "\n",
    "# Agregar la ruta absoluta del directorio 'img' al sys.path\n",
    "utils_path = os.path.abspath(os.path.join(os.getcwd(), \"src\", \"img\"))"
   ]
  },
  {
   "cell_type": "markdown",
   "metadata": {},
   "source": [
    "## MEMORIA - EDA MONITORIZACIÓN DE LA DEFORESTACIÓN DE LOS BOSQUES AMAZÓNICOS. CASO DE ESTUDIO EN PERÚ"
   ]
  },
  {
   "cell_type": "markdown",
   "metadata": {},
   "source": [
    "### **1. CONTEXTO**\n",
    "\n",
    "* La **deforestación**, además de la pérdida de biodiversidad y servicios ecosistémicos locales y regionales, supone **una de las principales fuentes de emisión de gases de efecto invernadero (GEI)**. Desde 1970, las emisiones acumuladas de $CO_2$ procedentes de la deforestación y cambio de usos del suelo han incrementado un 40\\%; y en 2010 ya suponían el 24\\% del total de las emisiones de GEI; más que las emisiones procedentes del sector industrial (21\\%) o del transporte (14\\%)\n",
    "\n",
    "* **Si la deforestación tropical fuera un país, tendría la tercera mayor huella de carbono del mundo**. Según datos e imágenes de Global Forest Watch, analizados en una investigación recientemente publicada por la revista Nature, la pérdida de cobertura arbórea tropical provocó un promedio de emisiones anuales equivalentes a 5,3 gigatoneladas entre 2001 y 2019. Esta cifra la sitúa en tercer lugar, después de China y Estados Unidos, si se excluyen los efectos del cambio de uso del suelo y la silvicultura.\n",
    "\n",
    "<div style=\"text-align: center;\">\n",
    "    <img src=\"./src/img/deforestacion_emisiones.jpeg\" alt=\"Emisiones de CO₂ por deforestación\" style=\"width:25%;\"/>\n",
    "</div>\n",
    "\n",
    "\n",
    "* En el contexto actual de cambio climático, y sin una reducción eficiente y sostenida de las emisiones de GEI, es muy importante contar con **sistemas automáticos de monitorización** que faciliten y fomenten la implementación de **programas para la conservación de bosques**, como el programa [REED+](https://unfccc.int/topics/land-use/workstreams/redd/what-is-redd) de las Naciones Unidas o los proyectos de captura y absorción de $CO_2$ en bosques ([carbon farming](https://eu-cap-network.ec.europa.eu/publications/carbon-farming-projects-brochure_en)). Estos sistemas deben ser transparentes, sólidos, robustos y fiables para evitar prácticas de [green washing](https://blogs.lse.ac.uk/internationaldevelopment/2023/01/26/the-verra-scandal-explained-why-avoided-deforestation-credits-are-hazardous/?utm_source=chatgpt.com) que cuestionan la implantación de este tipo de soluciones climáticas. En este sentido, los **sistemas basados en datos de teledetección (imágenes satelitales ópticas, radas, LiDAR, etc) y modelos de inteligencia artificia**l para la identificación de patrones de pérdida o ganancia de biomasa forestal, y estimación de balances netos de $CO_2$, se consideran una herramienta con gran potencial ([Monitoring of forests through remote sensing](https://op.europa.eu/en/publication-detail/-/publication/38567f41-288b-11eb-9d7e-01aa75ed71a1)).\n",
    "\n",
    "#### CASO DE ESTUDIO\n",
    "\n",
    "* **Perú contiene el 16% de los bosques amazónicos del mundo**. Dentro del país, una de las regiones más afectadas por la deforestación es el departamento de Ucayali. En esta región el Gobierno de Perú a reportado una **pérdida de más de 540.000 ha en el periodo 2001 - 2021**. Se ha seleccionado un área de estudio en esta región, en la provincia de Padre Abad, en la que la expansión de las actividades ganaderas y agroindustriales han provocado importantes pérdidas de cobertura vegetal. En la siguiente imagen se muestra el área de estudio. En color rojo se resaltan las áreas afectadas por la deforestación para el periodo 2001-2021 según datos del [Gobierno de Perú](https://geobosques.minam.gob.pe/geobosque/view/descargas.php?122345gxxe345w34gg).\n",
    "\n",
    "<div style=\"text-align: center;\">\n",
    "    <img src=\"./src/img/Figura1_a.png\" alt=\"ROI\" style=\"width:25%;\"/>\n",
    "</div>\n",
    "\n",
    "\n"
   ]
  },
  {
   "cell_type": "markdown",
   "metadata": {},
   "source": [
    "### **2. HIPÓTESIS**\n",
    "\n",
    "1. ¿Que patrón de deforestación se identifica en el caso de estudio? \n",
    "\n",
    "2. ¿Se puede identificar y caracterizar, de manera robusta, la pérdida de cobertura vegetal a partir de la información proporcionada por modelos de ajuste y segementación de series temporales de imágenes satelitales como [LandTrendr](https://geotrendr.ceoas.oregonstate.edu/landtrendr/) o [CCDC](https://gee-ccdc-tools.readthedocs.io/en/latest/background.html)?\n",
    "\n",
    "3. ¿Porían servir estos algoritmos como base para el desarrollo de sistemas robustos de monitoreo, reporte y verificación (MRV) de emisiones y captura de $CO_2$? \n",
    "\n",
    "4. ¿Que ventaja ofrece el uso de estos datos frente a otro tipo de información espectral?\n"
   ]
  },
  {
   "cell_type": "markdown",
   "metadata": {},
   "source": [
    "### **3. DATOS**\n",
    "\n",
    "#### RECOLECCIÓN DE DATOS\n",
    "\n",
    "1. ***Dataset con la información espectral***: Datos obtenidos al aplicar el algoritmo LandTrendr para la segmentación de una serie temporal de las imágenes de alta resolución Landsat (30m) desde el año 1985 al año 2022, en la plataforma *Google Earth Engine*. El modelo LandTrendr ajusta los valores espectrales de la serie temporal de imágenes en un modelo de segmentos lineales que capturan tanto los cambios bruscos de la señal espectral (*Spectral Index value*), como las tendencias graduales, descartanto aquellos valores que son producto de ruido de fondo (nubosidad, ruido electrónico o digital del sensor, etc). En la siguiente imagen se muestra el modelo conceptual. Se puede consultar más información sobre el modelo y su implementación en GEE en este enlace: [LT-GEE Guide](https://emapr.github.io/LT-GEE/).\n",
    "\n",
    "<div style=\"text-align: center;\">\n",
    "    <img src=\"./src/img/Figura3_ModConceptual_LandTrend.png\" alt=\"Emisiones de CO₂ por deforestación\" style=\"width:30%;\"/>\n",
    "</div>\n",
    "\n",
    "- Para el estudio de deforestación se ha seleccionado, para cada píxel, el segmento que representa pérdida de valor espectral (pendiente negativa) de mayor magnitud (mayor diferencia del valor espectral entre los vértices del segmento), entre los años 2001 y 2021. El resultado se ha exportado en un archivo imagen de formato Geotiff desde GEE, con 6 bandas. En cada banda se guardan los siguientes atributos que caracterizan el segmento:\n",
    "\n",
    "    - **Banda 1 - Año del cambio o perturbación (yod)**: Año del cambio que representa el segmento.\n",
    "    - **Banda 2 - Magnitud**: Diferencia del valor espectral de los dos vértices del segmento.\n",
    "    - **Banda 3 - Duración**: Diferencia de los años de los dos vértices del segmento\n",
    "    - **Banda 4 - Valor espectral previo al cambio**: valor del índice espectral en el primer vértice del segmento (preval)\n",
    "    - **Banda 5 - Tasa**: Calculada como $magnitud/duración$\n",
    "    - **Banda 6 - ratio DSNR**: ratio que mide la proporcion de señal espectral respecto del ruido de fondo\n",
    "    \n",
    "- El valor espectral sobre el que se ha realizado la segmentación ha sido el **índice TCW (*Tasseled Cap Wetness*)** que es muy sensible a los cambios en la cobertura vegetal. A continuación se muestra su formula de cálculo:\n",
    "    \n",
    "$$\n",
    "\\small\n",
    "TCW = 0.0315 \\cdot B + 0.2021 \\cdot G + 0.3102 \\cdot R + 0.1594 \\cdot NIR - 0.6806 \\cdot SWIR1 - 0.6109 \\cdot SWIR2\n",
    "$$\n",
    "\n",
    "$$\n",
    "\\small\n",
    "\\begin{aligned}\n",
    "&NIR: \\text{ banda infrarrojo cercano} \\\\\n",
    "&SWIR1: \\text{ banda infrarrojo de onda corta 1} \\\\\n",
    "&SWIR2: \\text{ banda infrarrojo de onda corta 2} \\\\\n",
    "&B: \\text{ banda azul} \\\\\n",
    "&G: \\text{ banda verde} \\\\\n",
    "&R: \\text{ banda rojo} \\\\\n",
    "\\end{aligned}\n",
    "$$\n",
    "\n",
    "\n",
    "\n",
    "2. ***Dataset de referencia***: Para identificar las áreas deforestadas de las no deforestadas se ha generado una máscara booleana, en formato Geotiff, para el periodo 2001-2021, a partir de los datos del producto denominado *Hansen Global Forest Change v1.11 (2000-2023)*, disponible en el catálogo de datos de GEE ([GFC](https://developers.google.com/earth-engine/datasets/catalog/UMD_hansen_global_forest_change_2023_v1_11)). Este producto, identifica a nivel global, las pérdidas y ganancias de cobertura forestal.\n",
    "\n",
    "\n",
    "#### LIMPIEZA Y PREPARACIÓN DE DATOS\n",
    "\n",
    "* Visualización de la información espectral contenida en el geotiff, y creación de un dataframe a partir de la información contenida en cada una de las bandas. Se ha creado una columna para la inforamción contenida en cada una de las bandas\n",
    "\n",
    "* Creación de un dataframe, con la columna 'clasificacion' a partir de la imagen con los datos de referencia (un única banda)\n",
    "\n",
    "* Unión de los dos dataframes a partir de la información de localización de los píxeles en los ejes x e y\n",
    "\n",
    "* Comprobación de coincidencia de coordenadas geográficas de cada píxel en los dos dataframe, para validar que las dos imágenes de dnode proceden los datos están co-registradas (alineadas geográficamente).\n",
    "\n",
    "* El % de NaN en el df resultante es muy alto porque corresponden con los píxeles de la imagen que están fuera del área de estudio (valores enmascarados) y que al exportar la imagen con los resultados desde GEE, como tipo float, se registran como valores NaN. Se elimiman porque corresponde con registros que están fuera del área de estudio. Después de eliminar los NaN se cuenta con más de millón y medio de registros para el análisis\n",
    "\n",
    "* No se identifican valores duplicados\n",
    "\n",
    "* Se renombran las columnas para facilitar el acceso a las variables\n",
    "\n",
    "* Se normalizan, a valores entre 0 y 1, los valores de las variables magnitud, preval y tasa para que facilitar la comparabilidad entre variables\n",
    "\n",
    "* Se convierten los valores de yod, duración y clasificacion a tipo int\n",
    "\n",
    "* Se crea una columna, tipo str, para los valores de la columna categórica clasificación, para facilitar la comparación posterior entre grupos\n",
    "\n",
    "* Finalmente se analiza la cardinalidad de las variables.\n",
    "\n",
    "En la siguiente tabla se resumen las principales características de las variables del dataframe final ue se usa como base del análisis.\n",
    "\n",
    "\n",
    "##### TABLA DE VARIABLES\n",
    "\n",
    "|Columna/Variable|Descripción|Tipo_de_Variable|Rol en el EDA|Nota|\n",
    "|-|-|-|-|-|\n",
    "|x|Coordenada x de localización del píxel en la imagen|Numérica discreta|Define posición en x del píxel dentro de la imagen. Para que se pueda considerar como índice de los registros, habría que combinarla con los valores de y||\n",
    "|y|Coordenada y de localización del píxel en la imagen|Numérica discreta|Define posición en y del píxel dentro de la imagen. Para que se pueda considerar como índice de los registros, habría que combinarla con los valores de x||\n",
    "|long|Coordenada longitud de localización del píxel en la imagen|Numérica discreta|Define posición del píxel con coordenadas geográficas de longitud dentro del ROI||\n",
    "|lat|Coordenada latitud de localización del píxel en la imagen|Numérica discreta|Define posición del píxel con coordenadas geográficas de latitud dentro del ROI||\n",
    "|clasificación|Variable con los datos de referencia que indica si ha habido deforestación en el píxel|Categórica/Binaria|Variable directora del análisis|valor 1 = no deforestación, valor 2 = deforestación|\n",
    "|mag_norm|Variable normalizada que representa la magnitud del cambio (negativo) en la señal espectral del píxel. La señal espectral se mide como el índice TCW que es sensible a los cambios en coberturas vegetales|Numérica continua|Esencial para identificar y caracterizar los cambios que podrían estar relacionados con eventos de deforestación||\n",
    "|yod|Variable que indica el año en el que se ha producido un cambio negativo en la señal espectral|Numérica discreta|Importante para identificar los patrones temporales de deforestación del ROI (área de estudio)||\n",
    "|dur|Variable que indica la duración del segemento que define al cambio negativo en la señal espectral|Numérica discreta|Esencial para identificar y caracterizar los cambios que podrían estar relacionados con eventos de deforestación (eventos de corta duración)||\n",
    "|rate_norm|Variable normalizada que indica la tasa de cambio del segeento que se ajusta al cambio negativo en la señal espectral. Se calcula como mag/dur|Numérica continua|Importante para caracterizar los eventos de pérdida de cobertura vegetal y posibles causas de los mismos. Ej: Un evento de deforestación por incencio generalmente tiene tasas más altas que eventos de degradación de la cobertura vegetal graduales generados por tala ilegal||\n",
    "|preval_norm|Variable normalizada que representa el valor de la señal espectral antes de producirse el cambio|Numérica continua|Indicador del verdor previo al evento de pérdida cobertura vegetal. Permite conocer el estado de la cobertura vegetal previa al evento||\n",
    "|dsnr|Variable que representa la proporción de señal espectral frente al ruido espectral presente en la señal|Numérica continua|Importante para caracterizar la fiabilidad del modelo de segmentación. Valores bajos indican que la segmentación está fuertemente influenciada por el ruido espectral vs. cambios de señal espectral relacionados con eventos de pérdida de cobertura vegetal||\n",
    "\n",
    "\n",
    "Para más detalle sobre los datos y el proceso de ETL, consultar el archivo [main.ipynb](./main.ipynb)"
   ]
  },
  {
   "cell_type": "markdown",
   "metadata": {},
   "source": [
    "### **4. ANÁLISIS REALIZADO Y RESULTADOS**\n"
   ]
  },
  {
   "cell_type": "markdown",
   "metadata": {},
   "source": [
    "### **5. CONCLUSIONES Y RECOMENDACIONES BASADAS EN LOS HALLAZGOS**\n"
   ]
  },
  {
   "cell_type": "markdown",
   "metadata": {},
   "source": []
  }
 ],
 "metadata": {
  "kernelspec": {
   "display_name": "Python 3",
   "language": "python",
   "name": "python3"
  },
  "language_info": {
   "codemirror_mode": {
    "name": "ipython",
    "version": 3
   },
   "file_extension": ".py",
   "mimetype": "text/x-python",
   "name": "python",
   "nbconvert_exporter": "python",
   "pygments_lexer": "ipython3",
   "version": "3.12.1"
  }
 },
 "nbformat": 4,
 "nbformat_minor": 2
}
